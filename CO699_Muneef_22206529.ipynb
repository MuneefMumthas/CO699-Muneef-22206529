{
  "nbformat": 4,
  "nbformat_minor": 0,
  "metadata": {
    "colab": {
      "provenance": [],
      "mount_file_id": "1Jsu-DCRLesBFJ6ejXBT_Viiw1-Mjj0hX",
      "authorship_tag": "ABX9TyPXUDRcqrfAq+6ELKGsStaa",
      "include_colab_link": true
    },
    "kernelspec": {
      "name": "python3",
      "display_name": "Python 3"
    },
    "language_info": {
      "name": "python"
    }
  },
  "cells": [
    {
      "cell_type": "markdown",
      "metadata": {
        "id": "view-in-github",
        "colab_type": "text"
      },
      "source": [
        "<a href=\"https://colab.research.google.com/github/MuneefMumthas/CO699-Muneef-22206529/blob/main/CO699_Muneef_22206529.ipynb\" target=\"_parent\"><img src=\"https://colab.research.google.com/assets/colab-badge.svg\" alt=\"Open In Colab\"/></a>"
      ]
    },
    {
      "cell_type": "markdown",
      "source": [
        "This is the ipynb file for Muneef's Dissertation.\n",
        "\n",
        "Project: Liver Tumor Segmentation using LiTS17 Dataset\n",
        "\n",
        "Link for the kaggle sites:\n",
        "\n",
        "part 1: https://www.kaggle.com/datasets/andrewmvd/liver-tumor-segmentation\n",
        "\n",
        "part 2: https://www.kaggle.com/datasets/andrewmvd/liver-tumor-segmentation-part-2\n",
        "\n",
        "I will be saving them in my drive to access them locally."
      ],
      "metadata": {
        "id": "qtkepO5-unq-"
      }
    },
    {
      "cell_type": "code",
      "source": [],
      "metadata": {
        "id": "zHZuOZeCu7Ml"
      },
      "execution_count": null,
      "outputs": []
    }
  ]
}